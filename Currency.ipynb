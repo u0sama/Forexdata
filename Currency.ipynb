{
  "nbformat": 4,
  "nbformat_minor": 0,
  "metadata": {
    "colab": {
      "name": "Currency.ipynb",
      "provenance": [],
      "authorship_tag": "ABX9TyM6HygNtnp1nZ8QLe5x1YDO",
      "include_colab_link": true
    },
    "kernelspec": {
      "name": "python3",
      "display_name": "Python 3"
    },
    "language_info": {
      "name": "python"
    }
  },
  "cells": [
    {
      "cell_type": "markdown",
      "metadata": {
        "id": "view-in-github",
        "colab_type": "text"
      },
      "source": [
        "<a href=\"https://colab.research.google.com/github/u0sama/Forexdata/blob/main/Currency.ipynb\" target=\"_parent\"><img src=\"https://colab.research.google.com/assets/colab-badge.svg\" alt=\"Open In Colab\"/></a>"
      ]
    },
    {
      "cell_type": "code",
      "execution_count": null,
      "metadata": {
        "colab": {
          "base_uri": "https://localhost:8080/"
        },
        "id": "t4PHamlYZrkG",
        "outputId": "c46f443b-2246-4cdc-dc57-f667bf5e6311"
      },
      "outputs": [
        {
          "output_type": "stream",
          "name": "stdout",
          "text": [
            "Requirement already satisfied: investpy in /usr/local/lib/python3.7/dist-packages (1.0.7)\n",
            "Requirement already satisfied: pytz>=2019.3 in /usr/local/lib/python3.7/dist-packages (from investpy) (2021.3)\n",
            "Requirement already satisfied: lxml>=4.4.1 in /usr/local/lib/python3.7/dist-packages (from investpy) (4.7.1)\n",
            "Requirement already satisfied: numpy>=1.17.2 in /usr/local/lib/python3.7/dist-packages (from investpy) (1.19.5)\n",
            "Requirement already satisfied: setuptools>=41.2.0 in /usr/local/lib/python3.7/dist-packages (from investpy) (57.4.0)\n",
            "Requirement already satisfied: requests>=2.22.0 in /usr/local/lib/python3.7/dist-packages (from investpy) (2.23.0)\n",
            "Requirement already satisfied: pandas>=0.25.1 in /usr/local/lib/python3.7/dist-packages (from investpy) (1.1.5)\n",
            "Requirement already satisfied: Unidecode>=1.1.1 in /usr/local/lib/python3.7/dist-packages (from investpy) (1.3.2)\n",
            "Requirement already satisfied: python-dateutil>=2.7.3 in /usr/local/lib/python3.7/dist-packages (from pandas>=0.25.1->investpy) (2.8.2)\n",
            "Requirement already satisfied: six>=1.5 in /usr/local/lib/python3.7/dist-packages (from python-dateutil>=2.7.3->pandas>=0.25.1->investpy) (1.15.0)\n",
            "Requirement already satisfied: certifi>=2017.4.17 in /usr/local/lib/python3.7/dist-packages (from requests>=2.22.0->investpy) (2021.10.8)\n",
            "Requirement already satisfied: chardet<4,>=3.0.2 in /usr/local/lib/python3.7/dist-packages (from requests>=2.22.0->investpy) (3.0.4)\n",
            "Requirement already satisfied: idna<3,>=2.5 in /usr/local/lib/python3.7/dist-packages (from requests>=2.22.0->investpy) (2.10)\n",
            "Requirement already satisfied: urllib3!=1.25.0,!=1.25.1,<1.26,>=1.21.1 in /usr/local/lib/python3.7/dist-packages (from requests>=2.22.0->investpy) (1.24.3)\n"
          ]
        },
        {
          "output_type": "execute_result",
          "data": {
            "text/plain": [
              "{'EUR/USD':               Open    High     Low   Close Currency\n",
              " Date                                               \n",
              " 2010-01-01  1.4328  1.4330  1.4322  1.4326      USD\n",
              " 2010-01-04  1.4325  1.4457  1.4257  1.4413      USD\n",
              " 2010-01-05  1.4409  1.4484  1.4346  1.4369      USD\n",
              " 2010-01-06  1.4364  1.4436  1.4282  1.4413      USD\n",
              " 2010-01-07  1.4407  1.4447  1.4295  1.4318      USD\n",
              " ...            ...     ...     ...     ...      ...\n",
              " 2021-10-25  1.1644  1.1666  1.1590  1.1606      USD\n",
              " 2021-10-26  1.1607  1.1626  1.1585  1.1595      USD\n",
              " 2021-10-27  1.1597  1.1626  1.1585  1.1604      USD\n",
              " 2021-10-28  1.1605  1.1693  1.1581  1.1679      USD\n",
              " 2021-10-29  1.1680  1.1690  1.1535  1.1561      USD\n",
              " \n",
              " [3086 rows x 5 columns]}"
            ]
          },
          "metadata": {},
          "execution_count": 2
        }
      ],
      "source": [
        "%pip install investpy\n",
        "import investpy\n",
        "symbols = [\"EUR/USD\"]\n",
        "datafeeds = {s:investpy.get_currency_cross_historical_data(currency_cross= s ,as_json=False, from_date='01/01/2010', to_date='31/10/2021')for s in symbols}\n",
        "\n",
        "datafeeds"
      ]
    }
  ]
}